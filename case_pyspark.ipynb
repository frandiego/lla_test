{
 "cells": [
  {
   "cell_type": "code",
   "execution_count": 3,
   "metadata": {
    "colab": {
     "base_uri": "https://localhost:8080/",
     "height": 271
    },
    "executionInfo": {
     "elapsed": 3867,
     "status": "ok",
     "timestamp": 1674777706090,
     "user": {
      "displayName": "Ivan Gomez",
      "userId": "07996057744576231817"
     },
     "user_tz": 300
    },
    "id": "RyBXCxugT5ON",
    "outputId": "49f6293f-1096-47fc-a78e-ba8f80fc60b7"
   },
   "outputs": [
    {
     "name": "stdout",
     "output_type": "stream",
     "text": [
      "Looking in indexes: https://pypi.org/simple, https://us-python.pkg.dev/colab-wheels/public/simple/\n",
      "Requirement already satisfied: pyspark in /usr/local/lib/python3.8/dist-packages (3.3.1)\n",
      "Requirement already satisfied: py4j==0.10.9.5 in /usr/local/lib/python3.8/dist-packages (from pyspark) (0.10.9.5)\n"
     ]
    },
    {
     "data": {
      "text/html": [
       "\n",
       "            <div>\n",
       "                <p><b>SparkSession - in-memory</b></p>\n",
       "                \n",
       "        <div>\n",
       "            <p><b>SparkContext</b></p>\n",
       "\n",
       "            <p><a href=\"http://77afc25e30cc:4050\">Spark UI</a></p>\n",
       "\n",
       "            <dl>\n",
       "              <dt>Version</dt>\n",
       "                <dd><code>v3.3.1</code></dd>\n",
       "              <dt>Master</dt>\n",
       "                <dd><code>local</code></dd>\n",
       "              <dt>AppName</dt>\n",
       "                <dd><code>Colab</code></dd>\n",
       "            </dl>\n",
       "        </div>\n",
       "        \n",
       "            </div>\n",
       "        "
      ],
      "text/plain": [
       "<pyspark.sql.session.SparkSession at 0x7f9aa6094f70>"
      ]
     },
     "execution_count": 3,
     "metadata": {},
     "output_type": "execute_result"
    }
   ],
   "source": [
    "!pip install pyspark\n",
    "\n",
    "from pyspark.sql import SparkSession\n",
    "spark = SparkSession.builder\\\n",
    "        .master(\"local\")\\\n",
    "        .appName(\"Colab\")\\\n",
    "        .config('spark.ui.port', '4050')\\\n",
    "        .getOrCreate()\n",
    "spark"
   ]
  },
  {
   "cell_type": "markdown",
   "metadata": {
    "id": "Ts_akECi6hvN"
   },
   "source": [
    "# Import Libraries"
   ]
  },
  {
   "cell_type": "code",
   "execution_count": 4,
   "metadata": {
    "executionInfo": {
     "elapsed": 212,
     "status": "ok",
     "timestamp": 1674777712291,
     "user": {
      "displayName": "Ivan Gomez",
      "userId": "07996057744576231817"
     },
     "user_tz": 300
    },
    "id": "tTNYekdP6g9G"
   },
   "outputs": [],
   "source": [
    "from pyspark.sql.functions import col, lit, count, abs, first, round, sum\n",
    "from pyspark.sql.types import StringType, IntegerType, DoubleType"
   ]
  },
  {
   "cell_type": "markdown",
   "metadata": {
    "id": "y1b6GK9247zb"
   },
   "source": [
    "## Loading Data"
   ]
  },
  {
   "cell_type": "code",
   "execution_count": 5,
   "metadata": {
    "colab": {
     "base_uri": "https://localhost:8080/"
    },
    "executionInfo": {
     "elapsed": 24829,
     "status": "ok",
     "timestamp": 1674777738899,
     "user": {
      "displayName": "Ivan Gomez",
      "userId": "07996057744576231817"
     },
     "user_tz": 300
    },
    "id": "n70h1G7clv3O",
    "outputId": "56ab8219-71cd-4732-e8c7-7c0a865b6f46"
   },
   "outputs": [
    {
     "name": "stdout",
     "output_type": "stream",
     "text": [
      "Mounted at /content/drive\n"
     ]
    }
   ],
   "source": [
    "from google.colab import drive\n",
    "drive.mount('/content/drive')"
   ]
  },
  {
   "cell_type": "code",
   "execution_count": 6,
   "metadata": {
    "colab": {
     "base_uri": "https://localhost:8080/"
    },
    "executionInfo": {
     "elapsed": 477,
     "status": "ok",
     "timestamp": 1674777743777,
     "user": {
      "displayName": "Ivan Gomez",
      "userId": "07996057744576231817"
     },
     "user_tz": 300
    },
    "id": "NnDhjYAU3Cc5",
    "outputId": "b0012855-c26b-4bc5-f795-7870020558b4"
   },
   "outputs": [
    {
     "name": "stdout",
     "output_type": "stream",
     "text": [
      "total 8\n",
      "drwx------ 2 root root 4096 Nov  3  2021 geo\n",
      "drwx------ 2 root root 4096 Nov  3  2021 labels\n"
     ]
    }
   ],
   "source": [
    "!ls -l drive/'My Drive'/DE_Test/data_sample"
   ]
  },
  {
   "cell_type": "code",
   "execution_count": 7,
   "metadata": {
    "colab": {
     "base_uri": "https://localhost:8080/"
    },
    "executionInfo": {
     "elapsed": 12109,
     "status": "ok",
     "timestamp": 1674777758943,
     "user": {
      "displayName": "Ivan Gomez",
      "userId": "07996057744576231817"
     },
     "user_tz": 300
    },
    "id": "_YpinYj9tufd",
    "outputId": "a07db529-3df8-479e-b0c1-2c20ea0cd673"
   },
   "outputs": [
    {
     "name": "stdout",
     "output_type": "stream",
     "text": [
      "Number of Rows = 611959\n",
      "+------------------+-----------------+--------------------+--------------------+\n",
      "|           latitud|         longitud|              comuna|                  ID|\n",
      "+------------------+-----------------+--------------------+--------------------+\n",
      "|  353894.669721904|6301392.600521904|b13b671cb296c1ce5...|ab6f6062e7fac953a...|\n",
      "| 297273.7487498676|6271440.347349868|d10ad8071d7270bc1...|b12fac130e9008be6...|\n",
      "|172956.24831402366|5702581.978114024|20c5891e1d78fe2f3...|cf29a4e836a1c4ba4...|\n",
      "| 135846.1650072791|5920764.953007279|c51ed7a673a2184f2...|46b48d3aa7694ae78...|\n",
      "|351678.75214929937|6282760.015749299|8e7e23148e55a25a0...|c86eb4ca0aeb0a981...|\n",
      "+------------------+-----------------+--------------------+--------------------+\n",
      "only showing top 5 rows\n",
      "\n"
     ]
    }
   ],
   "source": [
    "geo = spark.read.parquet(\"drive/My Drive/DE_Test/data_sample/geo/*\", header=True)\n",
    "print(f\"Number of Rows = {geo.count()}\")\n",
    "geo.show(5)"
   ]
  },
  {
   "cell_type": "code",
   "execution_count": 8,
   "metadata": {
    "colab": {
     "base_uri": "https://localhost:8080/"
    },
    "executionInfo": {
     "elapsed": 5941,
     "status": "ok",
     "timestamp": 1674777774256,
     "user": {
      "displayName": "Ivan Gomez",
      "userId": "07996057744576231817"
     },
     "user_tz": 300
    },
    "id": "eRQSAqlktuv_",
    "outputId": "5577bde1-1425-4c58-e09f-a7b364dd53e0"
   },
   "outputs": [
    {
     "name": "stdout",
     "output_type": "stream",
     "text": [
      "Number of Rows = 84435\n",
      "+--------------------+-----+\n",
      "|                  ID|event|\n",
      "+--------------------+-----+\n",
      "|ea165b785d74859a9...|    2|\n",
      "|558d0ed3e3cf87a3d...|    2|\n",
      "|2da14424526a7d741...|    2|\n",
      "|8f619aaa096c4e9da...|    2|\n",
      "|cabf40eac3538e1a6...|    1|\n",
      "+--------------------+-----+\n",
      "only showing top 5 rows\n",
      "\n"
     ]
    }
   ],
   "source": [
    "labels = spark.read.parquet(\"drive/My Drive/DE_Test/data_sample/labels/*\", header=True)\n",
    "print(f\"Number of Rows = {labels.count()}\")\n",
    "labels.show(5)"
   ]
  },
  {
   "cell_type": "markdown",
   "metadata": {
    "id": "PAorZ1lD5obm"
   },
   "source": [
    "# Data wrangling examples"
   ]
  },
  {
   "cell_type": "code",
   "execution_count": 9,
   "metadata": {
    "colab": {
     "base_uri": "https://localhost:8080/"
    },
    "executionInfo": {
     "elapsed": 21603,
     "status": "ok",
     "timestamp": 1674777883156,
     "user": {
      "displayName": "Ivan Gomez",
      "userId": "07996057744576231817"
     },
     "user_tz": 300
    },
    "id": "SQvTOEtt4k4W",
    "outputId": "0c114aae-593d-4bfc-9ae1-5dc35fc2c0b1"
   },
   "outputs": [
    {
     "name": "stdout",
     "output_type": "stream",
     "text": [
      "+--------------------+--------------------+------------------+-----------------+\n",
      "|                  ID|              comuna|           latitud|         longitud|\n",
      "+--------------------+--------------------+------------------+-----------------+\n",
      "|00ea32329fa4525da...|8e7e23148e55a25a0...|355003.62541433144|6282015.927125556|\n",
      "|0210f55e81f73f3da...|4b20bf8e091932655...| 274527.8736461363|6682088.686543643|\n",
      "|036d964becbfe696d...|b13b671cb296c1ce5...| 351527.3253498232|6301151.171749824|\n",
      "|03b2afdcd1da9be16...|8e7e23148e55a25a0...|352943.88487017597|6277854.775532687|\n",
      "|051cef5baa043ddf3...|b13b671cb296c1ce5...| 353076.7622881545|6300903.916888154|\n",
      "+--------------------+--------------------+------------------+-----------------+\n",
      "only showing top 5 rows\n",
      "\n"
     ]
    }
   ],
   "source": [
    "geo.\\\n",
    "groupBy(\"ID\").\\\n",
    "agg(\n",
    "    first(col(\"comuna\")).alias(\"comuna\"),\n",
    "    first(col(\"latitud\")).alias(\"latitud\"),\n",
    "    first(col(\"longitud\")).alias(\"longitud\")\n",
    ").\\\n",
    "sort(col(\"comuna\").asc()).\\\n",
    "repartition(20, col(\"comuna\")).\\\n",
    "cache().\\\n",
    "show(5)"
   ]
  },
  {
   "cell_type": "code",
   "execution_count": 10,
   "metadata": {
    "colab": {
     "base_uri": "https://localhost:8080/"
    },
    "executionInfo": {
     "elapsed": 16770,
     "status": "ok",
     "timestamp": 1674777979943,
     "user": {
      "displayName": "Ivan Gomez",
      "userId": "07996057744576231817"
     },
     "user_tz": 300
    },
    "id": "ibrAXiiw4k8Z",
    "outputId": "c51c4511-21d2-4c4a-c208-052195b633c5"
   },
   "outputs": [
    {
     "name": "stdout",
     "output_type": "stream",
     "text": [
      "18776\n",
      "+--------------------+---------+----------+----+---+\n",
      "|              comuna|latitud_2|longitud_2|   1|  2|\n",
      "+--------------------+---------+----------+----+---+\n",
      "|8e7e23148e55a25a0...| 355089.8| 6282631.9|null|  1|\n",
      "|8e7e23148e55a25a0...| 352735.1| 6283233.8|null|  1|\n",
      "|8e7e23148e55a25a0...| 354686.4| 6283647.4|null|  1|\n",
      "|8e7e23148e55a25a0...| 354746.6| 6284267.6|null|  1|\n",
      "|5b14d89ceb61cab2c...| 346185.4| 6305164.3|null|  1|\n",
      "+--------------------+---------+----------+----+---+\n",
      "only showing top 5 rows\n",
      "\n"
     ]
    }
   ],
   "source": [
    "temp = labels.\\\n",
    "    distinct().\\\n",
    "    join(geo, [\"ID\"]).\\\n",
    "    drop(\"ID\").\\\n",
    "    withColumn(\"latitud_2\", round(col(\"latitud\"), 1)).\\\n",
    "    withColumn(\"longitud_2\", round(col(\"longitud\"), 1)).\\\n",
    "    groupBy([\"comuna\", \"latitud_2\", \"longitud_2\"]).\\\n",
    "    pivot(\"event\").\\\n",
    "    agg(count(col(\"event\"))).\\\n",
    "    sort(col(\"comuna\").asc()).\\\n",
    "    repartition(20, col(\"comuna\"))\n",
    "\n",
    "print(temp.count())\n",
    "temp.show(5)"
   ]
  },
  {
   "cell_type": "markdown",
   "metadata": {
    "id": "yJ7NG29ABYW_"
   },
   "source": [
    "# Mapping events closer than 50m to customers"
   ]
  },
  {
   "cell_type": "code",
   "execution_count": null,
   "metadata": {
    "colab": {
     "base_uri": "https://localhost:8080/"
    },
    "executionInfo": {
     "elapsed": 873,
     "status": "ok",
     "timestamp": 1635967549673,
     "user": {
      "displayName": "Ivan Gomez",
      "photoUrl": "https://lh3.googleusercontent.com/a/default-user=s64",
      "userId": "07996057744576231817"
     },
     "user_tz": 300
    },
    "id": "zu_nt69VDZns",
    "outputId": "117a9cf8-fee5-4ee3-bfa8-f2052a4d29e2"
   },
   "outputs": [
    {
     "name": "stdout",
     "output_type": "stream",
     "text": [
      "Customers x Events = 611959 x 84435 = 51670758165\n"
     ]
    }
   ],
   "source": [
    "num_customers = geo.count()\n",
    "num_events = labels.count()\n",
    "total = num_customers * num_events\n",
    "print(f\"Customers x Events = {num_customers} x {num_events} = {total}\")"
   ]
  },
  {
   "cell_type": "code",
   "execution_count": null,
   "metadata": {
    "colab": {
     "base_uri": "https://localhost:8080/"
    },
    "executionInfo": {
     "elapsed": 3769,
     "status": "ok",
     "timestamp": 1635968447490,
     "user": {
      "displayName": "Ivan Gomez",
      "photoUrl": "https://lh3.googleusercontent.com/a/default-user=s64",
      "userId": "07996057744576231817"
     },
     "user_tz": 300
    },
    "id": "kgTZdzp74k_7",
    "outputId": "5e4415cc-9d8c-4aca-a0d2-f3baf15948c2"
   },
   "outputs": [
    {
     "name": "stdout",
     "output_type": "stream",
     "text": [
      "Number of Rows in dataframe 'mapping' = 18776\n"
     ]
    }
   ],
   "source": [
    "# Since the number of combinations could increase rapidly, define a strategy to handle this number of combinations\n",
    "# Aggregate data by comuna, define a threshold for latitud and longitud, repartition tables and implement caching are some ideas for your strategy.\n",
    "\n",
    "mapping = temp\n",
    "\n",
    "## Develop your distance mapping script here\n",
    "\n",
    "print(f\"Number of Rows in dataframe 'mapping' = {mapping.count()}\")"
   ]
  },
  {
   "cell_type": "code",
   "execution_count": null,
   "metadata": {
    "id": "MD58DBm0wvS5"
   },
   "outputs": [],
   "source": [
    "## Calculate the average distance aggregated by event for all customers here"
   ]
  },
  {
   "cell_type": "code",
   "execution_count": null,
   "metadata": {
    "id": "NC_eZwDKwvYu"
   },
   "outputs": [],
   "source": [
    "## Define the output table schema, this may be different for data scientist and data analysts depending on the architecture that you define in the point 1."
   ]
  },
  {
   "cell_type": "markdown",
   "metadata": {
    "id": "FRD33bKV30np"
   },
   "source": [
    "# Connect SQL Database to SQL (SQL Execution)"
   ]
  },
  {
   "cell_type": "code",
   "execution_count": null,
   "metadata": {
    "id": "pw5Qeh8H4lD0"
   },
   "outputs": [],
   "source": [
    "# Connection sqlite and init Database\n",
    "import sqlite3\n",
    "\n",
    "conn = sqlite3.connect('datalake_stage.db')\n",
    "print(\"Opened database successfully\");\n",
    "\n",
    "curs = conn.cursor()"
   ]
  },
  {
   "cell_type": "code",
   "execution_count": null,
   "metadata": {
    "id": "VJjyoMI3tu2u"
   },
   "outputs": [],
   "source": [
    "# Load table geo on db in memory\n",
    "df_geo_orig = geo_orig.toPandas()\n",
    "df_geo_orig.to_sql(con=conn, name='tbl_land_geo_orig')\n",
    "\n",
    "# Load the tables required to exercise here\n"
   ]
  },
  {
   "cell_type": "code",
   "execution_count": null,
   "metadata": {
    "id": "DaKvotDN30nq"
   },
   "outputs": [],
   "source": [
    "# Close connection to save the db in file datalake_stage.db\n",
    "conn.close()"
   ]
  },
  {
   "cell_type": "code",
   "execution_count": null,
   "metadata": {
    "id": "iMcVaDcXtu_x"
   },
   "outputs": [],
   "source": [
    "# We will first load an sql extension into our environment\n",
    "# This extension will allow us to work with sql on Colaboratory\n",
    "#\n",
    "%load_ext sql\n",
    "\n",
    "# We will then connect to our in memory sqlite database\n",
    "# NB: This database will cease to exist as soon as the database connection is closed.\n",
    "# We will learn more about how databases are created later in prep.\n",
    "#\n",
    "%sql sqlite:///datalake_stage.db\n",
    "# Nothing to do here"
   ]
  },
  {
   "cell_type": "code",
   "execution_count": null,
   "metadata": {
    "id": "qtMBnAGI30nq"
   },
   "outputs": [],
   "source": [
    "%%sql \n",
    "# Example query on cell magic \n",
    "select *\n",
    "from tbl_land_geo_orig\n",
    "where comuna ='b13b671cb296c1ce5eb94117f308118364cd258b322f61872cc7364dfcf5f2ad'\n",
    "limit 10"
   ]
  },
  {
   "cell_type": "code",
   "execution_count": null,
   "metadata": {
    "id": "DJvP9C_v30nq"
   },
   "outputs": [],
   "source": [
    "# Create your queries from this cell with %%sql \n",
    "%%sql "
   ]
  },
  {
   "cell_type": "code",
   "execution_count": null,
   "metadata": {
    "id": "q4O4fuD830nq"
   },
   "outputs": [],
   "source": [
    "%%sql \n",
    "# Output BI"
   ]
  },
  {
   "cell_type": "code",
   "execution_count": null,
   "metadata": {
    "id": "Hs3cewwT30nr"
   },
   "outputs": [],
   "source": [
    "%%sql \n",
    "# Output Datascientist"
   ]
  }
 ],
 "metadata": {
  "colab": {
   "provenance": [
    {
     "file_id": "1L1Nt49Aep4JDJh3tK5D0r_hTJMh-QEsh",
     "timestamp": 1635965644993
    }
   ]
  },
  "kernelspec": {
   "display_name": "Python 3 (ipykernel)",
   "language": "python",
   "name": "python3"
  },
  "language_info": {
   "codemirror_mode": {
    "name": "ipython",
    "version": 3
   },
   "file_extension": ".py",
   "mimetype": "text/x-python",
   "name": "python",
   "nbconvert_exporter": "python",
   "pygments_lexer": "ipython3",
   "version": "3.12.6"
  }
 },
 "nbformat": 4,
 "nbformat_minor": 4
}
